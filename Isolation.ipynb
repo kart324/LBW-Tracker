{
  "nbformat": 4,
  "nbformat_minor": 0,
  "metadata": {
    "kernelspec": {
      "display_name": "Python 3",
      "language": "python",
      "name": "python3"
    },
    "language_info": {
      "codemirror_mode": {
        "name": "ipython",
        "version": 3
      },
      "file_extension": ".py",
      "mimetype": "text/x-python",
      "name": "python",
      "nbconvert_exporter": "python",
      "pygments_lexer": "ipython3",
      "version": "3.7.7"
    },
    "colab": {
      "name": "Isolation.ipynb",
      "provenance": []
    }
  },
  "cells": [
    {
      "cell_type": "markdown",
      "metadata": {
        "id": "7QhrBv_KmtTL"
      },
      "source": [
        "#This Python notebook deals with the isolation of the ball from the surroundings using digital image processing techniques such as Laplacian, Median filters, Thresholding etc."
      ]
    },
    {
      "cell_type": "code",
      "metadata": {
        "id": "jiJMLQ93owBa"
      },
      "source": [
        "import cv2\r\n",
        "import numpy as np\r\n",
        "import mahotas \r\n",
        "import math"
      ],
      "execution_count": null,
      "outputs": []
    },
    {
      "cell_type": "code",
      "metadata": {
        "id": "ibQSK6tYjuHW",
        "outputId": "67cd1369-5e18-43c2-8b88-129b8825ddeb"
      },
      "source": [
        "#thresholding the first frame\n",
        "cap = cv2.VideoCapture(r\"C:\\Users\\Karthik\\Downloads\\DIP_DRS\\23_blur.mov\")\n",
        "fourcc = cv2.VideoWriter_fourcc(*'XVID')\n",
        "output = np.zeros((1920, 1080))\n",
        "print(cap.isOpened()) \n",
        "frame_count = 0\n",
        "while(cap.isOpened()):\n",
        "    ret, frame = cap.read()\n",
        "    if ret == True:\n",
        "        gray = cv2.cvtColor(frame, cv2.COLOR_BGR2GRAY)\n",
        "        _, th1 = cv2.threshold(gray, 70, 255, cv2.THRESH_BINARY_INV)\n",
        "        frame_org = th1\n",
        "        break\n",
        "cv2.destroyAllWindows()"
      ],
      "execution_count": null,
      "outputs": [
        {
          "output_type": "stream",
          "text": [
            "True\n"
          ],
          "name": "stdout"
        }
      ]
    },
    {
      "cell_type": "code",
      "metadata": {
        "id": "4wk0HODnjuHh",
        "outputId": "6183e0ca-b53c-489d-c702-378d22de35c7"
      },
      "source": [
        "#applying thresholding, laplacian, required binary operation and median blur\n",
        "images = []\n",
        "cap = cv2.VideoCapture(r\"C:\\Users\\Karthik\\Downloads\\DIP_DRS\\23_blur.mov\")\n",
        "fourcc = cv2.VideoWriter_fourcc(*'XVID')\n",
        "##out = cv2.VideoWriter('output.avi', fourcc, 20.0, (640,480))\n",
        "output = np.zeros((1920, 1080))\n",
        "print(cap.isOpened()) \n",
        "frame_count = 0\n",
        "while(cap.isOpened()):\n",
        "    ret, frame = cap.read()\n",
        "    if ret == True:\n",
        "      \n",
        "        gray = cv2.cvtColor(frame, cv2.COLOR_BGR2GRAY)\n",
        "        _, th1 = cv2.threshold(gray, 70, 255, cv2.THRESH_BINARY_INV)\n",
        "        final = cv2.bitwise_and(cv2.bitwise_not(frame_org),th1)\n",
        "        median_blur= cv2.medianBlur(final, 5)\n",
        "        \n",
        "        images.append(median_blur)\n",
        "        \n",
        "        cv2.imshow('median_blur', images[frame_count])\n",
        "        frame_count+=1\n",
        "        if cv2.waitKey(1) & 0xFF == ord('q'):\n",
        "            break\n",
        "    else:\n",
        "        break\n",
        "\n",
        "cap.release()\n",
        "cv2.destroyAllWindows()"
      ],
      "execution_count": null,
      "outputs": [
        {
          "output_type": "stream",
          "text": [
            "True\n"
          ],
          "name": "stdout"
        }
      ]
    },
    {
      "cell_type": "code",
      "metadata": {
        "id": "sUy_gcFcjuHl"
      },
      "source": [
        "#contouring the frames\n",
        "contour_vid = []\n",
        "for img in images :\n",
        "    _,contours, hierarchy = cv2.findContours(img, cv2.RETR_TREE, cv2.CHAIN_APPROX_NONE)\n",
        "    cv2.drawContours(img, contours, -1, (0, 255, 0), 3)\n",
        "    contour_vid.append(img)\n"
      ],
      "execution_count": null,
      "outputs": []
    },
    {
      "cell_type": "code",
      "metadata": {
        "id": "gm0aRGHUjuHm"
      },
      "source": [
        "#compiling the contoured frames into a video\n",
        "out = cv2.VideoWriter('hotspot.mov',cv2.VideoWriter_fourcc(*'BA81'), 60, (1920,1080))\n",
        "for i in range(len(contour_vid)):\n",
        "    out.write(contour_vid[i])\n",
        "out.release()"
      ],
      "execution_count": null,
      "outputs": []
    }
  ]
}